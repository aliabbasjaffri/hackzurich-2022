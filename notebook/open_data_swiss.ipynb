{
 "cells": [
  {
   "cell_type": "markdown",
   "id": "8de10bd4-73bb-4d29-bf9f-8fca48809cf3",
   "metadata": {},
   "source": [
    "# Introduction\n",
    "\n",
    "The notebooks is intended to explore possible interesting Open Data Swiss sources.\n",
    "\n",
    "[Data source](https://opendata.swiss/de)"
   ]
  },
  {
   "cell_type": "code",
   "execution_count": 1,
   "id": "df42c7cc-e08c-4062-b65a-4001d4ae0859",
   "metadata": {},
   "outputs": [],
   "source": [
    "# Import Standard Libraries\n",
    "import netCDF4 as nc"
   ]
  },
  {
   "cell_type": "code",
   "execution_count": null,
   "id": "cff34f9a-a61d-4818-ba24-13436b064904",
   "metadata": {},
   "outputs": [],
   "source": []
  }
 ],
 "metadata": {
  "kernelspec": {
   "display_name": "Python 3 (ipykernel)",
   "language": "python",
   "name": "python3"
  },
  "language_info": {
   "codemirror_mode": {
    "name": "ipython",
    "version": 3
   },
   "file_extension": ".py",
   "mimetype": "text/x-python",
   "name": "python",
   "nbconvert_exporter": "python",
   "pygments_lexer": "ipython3",
   "version": "3.10.5"
  }
 },
 "nbformat": 4,
 "nbformat_minor": 5
}
