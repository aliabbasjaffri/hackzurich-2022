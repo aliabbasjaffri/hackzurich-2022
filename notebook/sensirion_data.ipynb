{
 "cells": [
  {
   "cell_type": "code",
   "execution_count": 1,
   "id": "f58db6d5-71b1-42ba-bb55-ca93ff8d3e9d",
   "metadata": {},
   "outputs": [],
   "source": [
    "# Import data"
   ]
  },
  {
   "cell_type": "code",
   "execution_count": 2,
   "id": "e4e61431-d793-4667-9370-d15727cb6ebf",
   "metadata": {},
   "outputs": [],
   "source": [
    "import pandas as pd"
   ]
  },
  {
   "cell_type": "code",
   "execution_count": 3,
   "id": "7975da7d-ba3e-4d83-a86f-aeb75f503b0c",
   "metadata": {},
   "outputs": [],
   "source": [
    "df = pd.read_csv(\"data/20220915_HackZurich_Sensirion_v1.csv\")"
   ]
  },
  {
   "cell_type": "code",
   "execution_count": 4,
   "id": "59ee816e-d00e-433b-ab8c-83502f581721",
   "metadata": {},
   "outputs": [
    {
     "data": {
      "text/html": [
       "<div>\n",
       "<style scoped>\n",
       "    .dataframe tbody tr th:only-of-type {\n",
       "        vertical-align: middle;\n",
       "    }\n",
       "\n",
       "    .dataframe tbody tr th {\n",
       "        vertical-align: top;\n",
       "    }\n",
       "\n",
       "    .dataframe thead th {\n",
       "        text-align: right;\n",
       "    }\n",
       "</style>\n",
       "<table border=\"1\" class=\"dataframe\">\n",
       "  <thead>\n",
       "    <tr style=\"text-align: right;\">\n",
       "      <th></th>\n",
       "      <th>Unnamed: 0</th>\n",
       "      <th>temperature_ventilation_system_fresh_air_in</th>\n",
       "      <th>temperature_ventilation_system_fresh_air_intermediate</th>\n",
       "      <th>temperature_ventilation_system_fresh_air_out</th>\n",
       "      <th>temperature_ventilation_system_used_air_in</th>\n",
       "      <th>temperature_ventilation_system_used_air_out</th>\n",
       "      <th>volumne_flow_ventitaltion_system_in</th>\n",
       "      <th>particulate_matter_outdoor_measured</th>\n",
       "      <th>temperature_outdoor</th>\n",
       "      <th>humidity_outdoor_measured</th>\n",
       "      <th>...</th>\n",
       "      <th>co2_room_A</th>\n",
       "      <th>co2_room_B</th>\n",
       "      <th>particulate_matter_room_A</th>\n",
       "      <th>tvoc_room_A</th>\n",
       "      <th>temperature_room_B</th>\n",
       "      <th>humidity_room_B</th>\n",
       "      <th>particulate_matter_room_B</th>\n",
       "      <th>no2_room_B</th>\n",
       "      <th>tvoc_room_B</th>\n",
       "      <th>consumed_meals</th>\n",
       "    </tr>\n",
       "  </thead>\n",
       "  <tbody>\n",
       "    <tr>\n",
       "      <th>45788</th>\n",
       "      <td>2022-03-15 23:20:00</td>\n",
       "      <td>8.5</td>\n",
       "      <td>18.0</td>\n",
       "      <td>21.3</td>\n",
       "      <td>22.5</td>\n",
       "      <td>11.3</td>\n",
       "      <td>4.553</td>\n",
       "      <td>8.643105</td>\n",
       "      <td>8.2322</td>\n",
       "      <td>47.0693</td>\n",
       "      <td>...</td>\n",
       "      <td>466.86315</td>\n",
       "      <td>486.074321</td>\n",
       "      <td>2.932035</td>\n",
       "      <td>110.295094</td>\n",
       "      <td>25.607382</td>\n",
       "      <td>23.551445</td>\n",
       "      <td>2.774093</td>\n",
       "      <td>6.163712</td>\n",
       "      <td>118.179887</td>\n",
       "      <td>0.0</td>\n",
       "    </tr>\n",
       "    <tr>\n",
       "      <th>3226</th>\n",
       "      <td>2021-05-24 09:40:00</td>\n",
       "      <td>NaN</td>\n",
       "      <td>NaN</td>\n",
       "      <td>NaN</td>\n",
       "      <td>NaN</td>\n",
       "      <td>NaN</td>\n",
       "      <td>NaN</td>\n",
       "      <td>1.708025</td>\n",
       "      <td>14.6383</td>\n",
       "      <td>45.4473</td>\n",
       "      <td>...</td>\n",
       "      <td>NaN</td>\n",
       "      <td>NaN</td>\n",
       "      <td>NaN</td>\n",
       "      <td>NaN</td>\n",
       "      <td>NaN</td>\n",
       "      <td>NaN</td>\n",
       "      <td>NaN</td>\n",
       "      <td>NaN</td>\n",
       "      <td>NaN</td>\n",
       "      <td>0.0</td>\n",
       "    </tr>\n",
       "  </tbody>\n",
       "</table>\n",
       "<p>2 rows × 31 columns</p>\n",
       "</div>"
      ],
      "text/plain": [
       "                Unnamed: 0  temperature_ventilation_system_fresh_air_in  \\\n",
       "45788  2022-03-15 23:20:00                                          8.5   \n",
       "3226   2021-05-24 09:40:00                                          NaN   \n",
       "\n",
       "       temperature_ventilation_system_fresh_air_intermediate  \\\n",
       "45788                                               18.0       \n",
       "3226                                                 NaN       \n",
       "\n",
       "       temperature_ventilation_system_fresh_air_out  \\\n",
       "45788                                          21.3   \n",
       "3226                                            NaN   \n",
       "\n",
       "       temperature_ventilation_system_used_air_in  \\\n",
       "45788                                        22.5   \n",
       "3226                                          NaN   \n",
       "\n",
       "       temperature_ventilation_system_used_air_out  \\\n",
       "45788                                         11.3   \n",
       "3226                                           NaN   \n",
       "\n",
       "       volumne_flow_ventitaltion_system_in  \\\n",
       "45788                                4.553   \n",
       "3226                                   NaN   \n",
       "\n",
       "       particulate_matter_outdoor_measured  temperature_outdoor  \\\n",
       "45788                             8.643105               8.2322   \n",
       "3226                              1.708025              14.6383   \n",
       "\n",
       "       humidity_outdoor_measured  ...  co2_room_A  co2_room_B  \\\n",
       "45788                    47.0693  ...   466.86315  486.074321   \n",
       "3226                     45.4473  ...         NaN         NaN   \n",
       "\n",
       "       particulate_matter_room_A  tvoc_room_A  temperature_room_B  \\\n",
       "45788                   2.932035   110.295094           25.607382   \n",
       "3226                         NaN          NaN                 NaN   \n",
       "\n",
       "       humidity_room_B  particulate_matter_room_B  no2_room_B  tvoc_room_B  \\\n",
       "45788        23.551445                   2.774093    6.163712   118.179887   \n",
       "3226               NaN                        NaN         NaN          NaN   \n",
       "\n",
       "       consumed_meals  \n",
       "45788             0.0  \n",
       "3226              0.0  \n",
       "\n",
       "[2 rows x 31 columns]"
      ]
     },
     "execution_count": 4,
     "metadata": {},
     "output_type": "execute_result"
    }
   ],
   "source": [
    "df.sample(2)"
   ]
  },
  {
   "cell_type": "code",
   "execution_count": 5,
   "id": "a22d8c28-118d-4988-beaf-7a2444f5bb97",
   "metadata": {},
   "outputs": [
    {
     "data": {
      "text/plain": [
       "Unnamed: 0    object\n",
       "dtype: object"
      ]
     },
     "execution_count": 5,
     "metadata": {},
     "output_type": "execute_result"
    }
   ],
   "source": [
    "df[[\"Unnamed: 0\"]].dtypes"
   ]
  },
  {
   "cell_type": "code",
   "execution_count": 6,
   "id": "6f565731-ab68-436b-9d84-9909faa69596",
   "metadata": {},
   "outputs": [],
   "source": [
    "df[\"datetime\"] = pd.to_datetime(df[\"Unnamed: 0\"])"
   ]
  },
  {
   "cell_type": "code",
   "execution_count": 7,
   "id": "fd0f7796-26db-490a-b19e-082f0293a791",
   "metadata": {},
   "outputs": [
    {
     "data": {
      "text/plain": [
       "datetime    datetime64[ns]\n",
       "dtype: object"
      ]
     },
     "execution_count": 7,
     "metadata": {},
     "output_type": "execute_result"
    }
   ],
   "source": [
    "df[[\"datetime\"]].dtypes"
   ]
  },
  {
   "cell_type": "code",
   "execution_count": 8,
   "id": "630e96be-803f-480f-b90c-7c7ff89373f4",
   "metadata": {},
   "outputs": [],
   "source": [
    "df.drop(\"Unnamed: 0\", axis=1, inplace=True)"
   ]
  },
  {
   "cell_type": "code",
   "execution_count": 9,
   "id": "993a8a00-2d9b-40be-a165-70634b4313f4",
   "metadata": {},
   "outputs": [
    {
     "data": {
      "text/plain": [
       "Index(['temperature_ventilation_system_fresh_air_in',\n",
       "       'temperature_ventilation_system_fresh_air_intermediate',\n",
       "       'temperature_ventilation_system_fresh_air_out',\n",
       "       'temperature_ventilation_system_used_air_in',\n",
       "       'temperature_ventilation_system_used_air_out',\n",
       "       'volumne_flow_ventitaltion_system_in',\n",
       "       'particulate_matter_outdoor_measured', 'temperature_outdoor',\n",
       "       'humidity_outdoor_measured', 'temperature_outdoor_estimated',\n",
       "       'wind_speed_outdoor_estimated', 'wind_dir_outdoor_estimated',\n",
       "       'precipitation_outdoor_estimated', 'humidity_outdoor_estimated',\n",
       "       'visibility_outdoor_estimated', 'pressure_outdoor_estimated',\n",
       "       'cloudcover_outdoor_estimated', 'dewpoint_outdoor_estimated',\n",
       "       'wind_gust_outdoor_estimated', 'uv_outdoor_estimated', 'co2_room_A',\n",
       "       'co2_room_B', 'particulate_matter_room_A', 'tvoc_room_A',\n",
       "       'temperature_room_B', 'humidity_room_B', 'particulate_matter_room_B',\n",
       "       'no2_room_B', 'tvoc_room_B', 'consumed_meals', 'datetime'],\n",
       "      dtype='object')"
      ]
     },
     "execution_count": 9,
     "metadata": {},
     "output_type": "execute_result"
    }
   ],
   "source": [
    "df.columns"
   ]
  },
  {
   "cell_type": "code",
   "execution_count": 17,
   "id": "b09a5dd8-a6d5-486c-8cb7-d5184aa77304",
   "metadata": {},
   "outputs": [
    {
     "data": {
      "text/html": [
       "<div>\n",
       "<style scoped>\n",
       "    .dataframe tbody tr th:only-of-type {\n",
       "        vertical-align: middle;\n",
       "    }\n",
       "\n",
       "    .dataframe tbody tr th {\n",
       "        vertical-align: top;\n",
       "    }\n",
       "\n",
       "    .dataframe thead th {\n",
       "        text-align: right;\n",
       "    }\n",
       "</style>\n",
       "<table border=\"1\" class=\"dataframe\">\n",
       "  <thead>\n",
       "    <tr style=\"text-align: right;\">\n",
       "      <th></th>\n",
       "      <th>consumed_meals</th>\n",
       "    </tr>\n",
       "  </thead>\n",
       "  <tbody>\n",
       "    <tr>\n",
       "      <th>count</th>\n",
       "      <td>69985.000000</td>\n",
       "    </tr>\n",
       "    <tr>\n",
       "      <th>mean</th>\n",
       "      <td>0.633836</td>\n",
       "    </tr>\n",
       "    <tr>\n",
       "      <th>std</th>\n",
       "      <td>9.495526</td>\n",
       "    </tr>\n",
       "    <tr>\n",
       "      <th>min</th>\n",
       "      <td>0.000000</td>\n",
       "    </tr>\n",
       "    <tr>\n",
       "      <th>25%</th>\n",
       "      <td>0.000000</td>\n",
       "    </tr>\n",
       "    <tr>\n",
       "      <th>50%</th>\n",
       "      <td>0.000000</td>\n",
       "    </tr>\n",
       "    <tr>\n",
       "      <th>75%</th>\n",
       "      <td>0.000000</td>\n",
       "    </tr>\n",
       "    <tr>\n",
       "      <th>max</th>\n",
       "      <td>222.000000</td>\n",
       "    </tr>\n",
       "  </tbody>\n",
       "</table>\n",
       "</div>"
      ],
      "text/plain": [
       "       consumed_meals\n",
       "count    69985.000000\n",
       "mean         0.633836\n",
       "std          9.495526\n",
       "min          0.000000\n",
       "25%          0.000000\n",
       "50%          0.000000\n",
       "75%          0.000000\n",
       "max        222.000000"
      ]
     },
     "execution_count": 17,
     "metadata": {},
     "output_type": "execute_result"
    }
   ],
   "source": [
    "df[[\"consumed_meals\"]].describe()"
   ]
  },
  {
   "cell_type": "code",
   "execution_count": null,
   "id": "cb24628d-3049-43da-a865-8d1120dc22c4",
   "metadata": {},
   "outputs": [],
   "source": []
  }
 ],
 "metadata": {
  "kernelspec": {
   "display_name": "Python 3 (ipykernel)",
   "language": "python",
   "name": "python3"
  },
  "language_info": {
   "codemirror_mode": {
    "name": "ipython",
    "version": 3
   },
   "file_extension": ".py",
   "mimetype": "text/x-python",
   "name": "python",
   "nbconvert_exporter": "python",
   "pygments_lexer": "ipython3",
   "version": "3.10.5"
  }
 },
 "nbformat": 4,
 "nbformat_minor": 5
}
