{
 "cells": [
  {
   "cell_type": "markdown",
   "id": "804602a7-4364-4fe7-ba5d-671f074ee296",
   "metadata": {},
   "source": [
    "# Introduction\n",
    "\n",
    "The notebook is intended to analyse the weather outside conditions to find correlations with the inside air pollutions."
   ]
  },
  {
   "cell_type": "code",
   "execution_count": 3,
   "id": "7574773e-e81e-473c-9696-bb8d5239ae21",
   "metadata": {},
   "outputs": [],
   "source": [
    "# Import Standard Libraries\n",
    "import requests\n",
    "import xarray as xr"
   ]
  },
  {
   "cell_type": "code",
   "execution_count": 4,
   "id": "93d39a99-6f53-4573-a45c-1da66ca6bb6e",
   "metadata": {},
   "outputs": [],
   "source": [
    "# Notebook's variables\n",
    "precipitation_data_url = 'https://data.geo.admin.ch/ch.meteoschweiz.klimanormwerte-niederschlag_aktuelle_periode/netcdf/2056/RnormM9120_ch01r.swiss.lv95_000001010000_000012010000.nc'"
   ]
  },
  {
   "cell_type": "markdown",
   "id": "ca03605e-ba5a-43b5-96d7-33cc0bcc9da1",
   "metadata": {},
   "source": [
    "# Read Data"
   ]
  },
  {
   "cell_type": "code",
   "execution_count": 5,
   "id": "c8a23032-33b0-4de4-8f5f-7774a281c765",
   "metadata": {},
   "outputs": [],
   "source": [
    "# Download data\n",
    "response = requests.get(precipitation_data_url)"
   ]
  },
  {
   "cell_type": "code",
   "execution_count": 6,
   "id": "fc548152-0310-4c68-9059-e3faa2b809a1",
   "metadata": {},
   "outputs": [],
   "source": [
    "# Save data\n",
    "with open('./../data/precipitation_data.nc', 'w') as file:\n",
    "    file.write(response.text)"
   ]
  },
  {
   "cell_type": "code",
   "execution_count": null,
   "id": "7e86fa9d-90c3-444e-ac03-e3e3ab6d930a",
   "metadata": {},
   "outputs": [],
   "source": [
    "# Retrieve data and transform to a CSV\n",
    "ds = xr.open_dataset('./../data/RnormY6190_ch01r.swiss.lv95_000001010000_000001010000.nc', decode_times=False)\n",
    "df = ds.to_dataframe()"
   ]
  }
 ],
 "metadata": {
  "kernelspec": {
   "display_name": "Python 3 (ipykernel)",
   "language": "python",
   "name": "python3"
  },
  "language_info": {
   "codemirror_mode": {
    "name": "ipython",
    "version": 3
   },
   "file_extension": ".py",
   "mimetype": "text/x-python",
   "name": "python",
   "nbconvert_exporter": "python",
   "pygments_lexer": "ipython3",
   "version": "3.10.5"
  }
 },
 "nbformat": 4,
 "nbformat_minor": 5
}
