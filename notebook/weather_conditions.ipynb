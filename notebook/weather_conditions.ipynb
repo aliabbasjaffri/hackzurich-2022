{
 "cells": [
  {
   "cell_type": "markdown",
   "id": "804602a7-4364-4fe7-ba5d-671f074ee296",
   "metadata": {},
   "source": [
    "# Introduction\n",
    "\n",
    "The notebook is intended to analyse the weather outside conditions to find correlations with the inside air pollutions."
   ]
  },
  {
   "cell_type": "code",
   "execution_count": 1,
   "id": "7574773e-e81e-473c-9696-bb8d5239ae21",
   "metadata": {},
   "outputs": [],
   "source": [
    "# Import Standard Libraries\n",
    "import requests"
   ]
  },
  {
   "cell_type": "code",
   "execution_count": null,
   "id": "c2764900-9518-4ad5-bbcb-999c561d5e51",
   "metadata": {},
   "outputs": [],
   "source": []
  }
 ],
 "metadata": {
  "kernelspec": {
   "display_name": "Python 3 (ipykernel)",
   "language": "python",
   "name": "python3"
  },
  "language_info": {
   "codemirror_mode": {
    "name": "ipython",
    "version": 3
   },
   "file_extension": ".py",
   "mimetype": "text/x-python",
   "name": "python",
   "nbconvert_exporter": "python",
   "pygments_lexer": "ipython3",
   "version": "3.10.5"
  }
 },
 "nbformat": 4,
 "nbformat_minor": 5
}
